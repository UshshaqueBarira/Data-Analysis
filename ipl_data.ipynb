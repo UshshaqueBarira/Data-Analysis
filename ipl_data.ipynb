Hi Readers,

This data set consisted of many information in regards to the IPL matches including seasons, matches, teams, teir tosses, winners, batting decision.
It was quite exiting to work on such detailed information and helped me in data mining using python.
